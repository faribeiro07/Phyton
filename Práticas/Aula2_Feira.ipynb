{
 "cells": [
  {
   "cell_type": "markdown",
   "metadata": {},
   "source": [
    "<b>Exercicio 1.</b> Hummm interessante, agora que vimos nossa primeira estrutura de dados, vamos fazer um exercicio bem legal.\n",
    "Voce tem uma tupla chamada feira.\n",
    "A feira contém: banana, pera, batata, uva, cebola, alho e açucar."
   ]
  },
  {
   "cell_type": "code",
   "execution_count": 1,
   "metadata": {},
   "outputs": [],
   "source": [
    "#criando a lista estipulada pelo exercício\n",
    "feira = \"Banana\", \"Pêra\", \"Batata\", \"Uva\", \"Cebola\", \"Alho\", \"Açucar\""
   ]
  },
  {
   "cell_type": "code",
   "execution_count": 2,
   "metadata": {},
   "outputs": [],
   "source": [
    "#Transormando a tupla em lista para ser manipulada\n",
    "feira = list(feira)"
   ]
  },
  {
   "cell_type": "markdown",
   "metadata": {},
   "source": [
    "Teu chefe te mandou a feira, e pediu para voce comprar esses produtos, um deles não da para comprar lá remova ele da lista."
   ]
  },
  {
   "cell_type": "code",
   "execution_count": 3,
   "metadata": {},
   "outputs": [
    {
     "name": "stdout",
     "output_type": "stream",
     "text": [
      "Qual item não tem disponível na feira: Banana, Pera, Batata, Uva, Cebola, Alho, Açucar?mel\n",
      "Item não existente. Qual deles deseja remover: Banana, Pera, Batata, Uva, Cebola, Alho, Açucar?banana\n",
      "Produto Banana foi removido e sua lista de compras agora é ['Pêra', 'Batata', 'Uva', 'Cebola', 'Alho', 'Açucar']\n"
     ]
    }
   ],
   "source": [
    "#seguindo a tarefam vamos perguntar ao usuário qual item deseja remover o texto será ajustado\n",
    "op = input(\"Qual item não tem disponível na feira: Banana, Pera, Batata, Uva, Cebola, Alho, Açucar?\").capitalize()\n",
    "\n",
    "#looping será usado para garantir que o item selecionado esteja presente na lista original:\n",
    "while op not in feira:\n",
    "    op = input(\"Item não existente. Qual deles deseja remover: Banana, Pera, Batata, Uva, Cebola, Alho, Açucar?\").capitalize()\n",
    "    break\n",
    "\n",
    "#Quando o resultado da pergunta retornar um item dentro da lista, ele será removido e o usuário receberá confirmação:\n",
    "feira.remove(op)\n",
    "print(\"Produto {} foi removido e sua lista de compras agora é {}\".format(op, feira))"
   ]
  },
  {
   "cell_type": "markdown",
   "metadata": {},
   "source": [
    "No caminho ele te ligou mandou voce também comprar maça e cenoura."
   ]
  },
  {
   "cell_type": "code",
   "execution_count": 8,
   "metadata": {},
   "outputs": [
    {
     "name": "stdout",
     "output_type": "stream",
     "text": [
      "Sua nova lista agora tem os seguintes items ['Pêra', 'Batata', 'Uva', 'Cebola', 'Alho', 'Açucar', 'Maçã', 'Cenoura']\n"
     ]
    }
   ],
   "source": [
    "#Na sequência os novos item serão adicionados à lista de compras:\n",
    "novo_pedido = 'Maçã','Cenoura'\n",
    "feira2 = list(novo_pedido)\n",
    "lst = feira + feira2\n",
    "\n",
    "print(\"Sua nova lista agora tem os seguintes items {}\".format(lst))"
   ]
  },
  {
   "cell_type": "markdown",
   "metadata": {},
   "source": [
    "Ele é mega chato, e mandou voce separar em duas sacolas, o que é fruta e o que é legume e entregar tudo ordenado."
   ]
  },
  {
   "cell_type": "code",
   "execution_count": 6,
   "metadata": {},
   "outputs": [],
   "source": [
    "#Para continuar, adicionamos uma lista de frutas, legumes e um dicionário de preços para futuras consultas:\n",
    "setor_frutas = 'Abacate', 'Abacaxi', 'Açaí', 'Acerola', 'Banana', 'Caqui', 'Coco', 'Figo', 'Goiaba', 'Laranja', 'Limão', 'Mamão', 'Manga', 'Maracujá', 'Marmelo', 'Maçã', 'Melância', 'Melão', 'Pêra', 'Pêssego', 'Tangerina', 'Uva'\n",
    "setor_legumes = 'Abóbora', 'Alface', 'Batata', 'Batata-doce', 'Cebola', 'Cenoura', 'Chuchu', 'Pimentão', 'Repolho', 'Chuchu', 'Pepino', 'Abobrinha', 'Quiabo', 'Berinjela', 'Jiló', 'Maxixe', 'Betterraba', 'Ervilha', 'Inhame', 'Brócolis', 'Couve-flor', 'Alcachofra', 'Mandioquinha', 'Mandioca', 'Nabo', 'Rabanete', 'Aspargo', 'Alho'\n",
    "di_preco = {\"Banana\": 0.98, \"Maçã\": 7.00, \"Cenoura\": 3.5,\"Pêra\": 1.01, \"Batata\": 0.53,\"Uva\": 2.54, \"Cebola\": 0.83, \"Alho\": 0.21, \"Açucar\": 3.11}\n",
    "\n",
    "#As tuplas foram convertidas para lista para serem manipuladas.\n",
    "setor_frutas = list(setor_frutas)\n",
    "setor_legumes = list(setor_legumes)"
   ]
  },
  {
   "cell_type": "code",
   "execution_count": 7,
   "metadata": {},
   "outputs": [
    {
     "name": "stdout",
     "output_type": "stream",
     "text": [
      "Sua sacola de legumes tem ['Alho', 'Batata', 'Cebola', 'Cenoura'] e o preço total foi R$ 5.07\n",
      "Sua sacola de frutas tem ['Maçã', 'Pêra', 'Uva'] e o preço total foi R$ 10.55\n",
      "Já na sua sacola de outros items temos ['Açucar'] preço total foi R$ 3.11\n"
     ]
    }
   ],
   "source": [
    "#Declaramos listas vazias para separar os items de acordo com a classificação desejada.\n",
    "lst_frutas = []\n",
    "lst_legumes = []\n",
    "lst_outros = [] #não faz parte do pedido, mas açucar não se encaixava nas outras categorias\n",
    "\n",
    "#Declarada lista vazias para serem populadas com os preços:\n",
    "lst_frutas_preco = []\n",
    "lst_legumes_preco = []\n",
    "lst_outros_preco = []\n",
    "\n",
    "#Laço irá separar os itens de acordo com a categoria\n",
    "for item in lst:\n",
    "    if(item in setor_frutas): #verifica se o item está presente no setor de frutas\n",
    "        lst_frutas.append(item) #Adiciona na lista de frutas\n",
    "        lst_frutas_preco.append(di_preco.get(item)) #consulta o dicionário de preço e preenche valor na lista de preço\n",
    "    elif(item in setor_legumes): #verifica se o item está presente no setor de legumes\n",
    "        lst_legumes.append(item) #Adiciona na lista de legumes\n",
    "        lst_legumes_preco.append(di_preco.get(item)) #Consulta o legume no dicionário de preço e preenche lista de preço\n",
    "    else:\n",
    "        lst_outros.append(item) #Adiciona o que não foi fruta ou legume na lista outros\n",
    "        lst_outros_preco.append(di_preco.get(item)) #consulta item no dicionário de preços e preenche a lista de preços\n",
    "\n",
    "#Instruções para organizar ordenar os itens na lista\n",
    "lst_legumes.sort()\n",
    "lst_frutas.sort()\n",
    "lst_outros.sort()\n",
    "\n",
    "#Exibição das sacolas por sua categoria e o respectivo preço:        \n",
    "print(\"Sua sacola de legumes tem {} e o preço total foi R$ {}\".format(lst_legumes, round(sum(lst_legumes_preco),2)))\n",
    "print(\"Sua sacola de frutas tem {} e o preço total foi R$ {}\".format(lst_frutas, round(sum(lst_frutas_preco),2)))\n",
    "\n",
    "#Condicional irá verificar se a lista de outros tem algum item e se tiver, exibirá o produto e o preço dele:\n",
    "if(len(lst_outros) >= 1):\n",
    "    print(\"Já na sua sacola de outros items temos {} preço total foi R$ {}\".format(lst_outros, round(sum(lst_outros_preco),2)))"
   ]
  }
 ],
 "metadata": {
  "kernelspec": {
   "display_name": "Python 3",
   "language": "python",
   "name": "python3"
  },
  "language_info": {
   "codemirror_mode": {
    "name": "ipython",
    "version": 3
   },
   "file_extension": ".py",
   "mimetype": "text/x-python",
   "name": "python",
   "nbconvert_exporter": "python",
   "pygments_lexer": "ipython3",
   "version": "3.8.3"
  }
 },
 "nbformat": 4,
 "nbformat_minor": 4
}
