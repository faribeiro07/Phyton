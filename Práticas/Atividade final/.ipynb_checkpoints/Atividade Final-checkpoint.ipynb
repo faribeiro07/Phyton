{
 "cells": [
  {
   "cell_type": "markdown",
   "metadata": {},
   "source": [
    "<b>Exerício Final</b>"
   ]
  },
  {
   "cell_type": "code",
   "execution_count": 110,
   "metadata": {},
   "outputs": [],
   "source": [
    "import pandas as pd\n",
    "import datetime\n",
    "import numpy as np\n",
    "import matplotlib\n",
    "import matplotlib.pyplot as plt\n",
    "\n",
    "cadastro_df = pd.read_csv(r'cadastro - cadastro.csv')\n",
    "precos_df = pd.read_csv('preco da gasolina - preco da gasolina.csv')\n",
    "salario_df = pd.read_csv('salario_profissoes - salario_profissoes.csv')"
   ]
  },
  {
   "cell_type": "markdown",
   "metadata": {},
   "source": [
    "<b>Qual a idade média das pessoas no cadastro?</b>"
   ]
  },
  {
   "cell_type": "code",
   "execution_count": 2,
   "metadata": {},
   "outputs": [
    {
     "name": "stdout",
     "output_type": "stream",
     "text": [
      "A Idade média dos cadastrados é 33 anos\n"
     ]
    }
   ],
   "source": [
    "now = datetime.datetime.now().year #Armazena o ano atual na variável\n",
    "\n",
    "cadastro_df['idade'] = now - cadastro_df['ano_nascimento'] #cria a coluna e realiza a subtração do ano para ter a idade\n",
    "\n",
    "idade_media = int(round(cadastro_df['idade'].mean(),0)) # criada a variável para calcular a média dos cadastrados\n",
    "\n",
    "print('A Idade média dos cadastrados é {} anos'.format(idade_media)) #exibe resultado formatado\n"
   ]
  },
  {
   "cell_type": "markdown",
   "metadata": {},
   "source": [
    "<b> Quantos homens tem no cadastro?</b>"
   ]
  },
  {
   "cell_type": "code",
   "execution_count": 107,
   "metadata": {
    "scrolled": true
   },
   "outputs": [
    {
     "name": "stdout",
     "output_type": "stream",
     "text": [
      "Existem 16 registros do sexo masculino e eles representam 53.0% do total\n"
     ]
    }
   ],
   "source": [
    "cadastro_df['contador'] = 1 #cria coluna de contador para realizar a contagem\n",
    "\n",
    "homens = cadastro_df.loc[cadastro_df.sexo == 'm'] #seleciona apenas as linhas com sexo masculino\n",
    "\n",
    "qt_homens = homens['contador'].sum() #soma a quantidade de linhas com valores do sexo  masculino\n",
    "perc_homens = round(qt_homens / cadastro_df['sexo'].count(),2)*100 #conta para o percentual dos homens na base\n",
    "\n",
    "print(\"Existem {} registros do sexo masculino e eles representam {}% do total\".format(qt_homens,perc_homens))"
   ]
  },
  {
   "cell_type": "markdown",
   "metadata": {},
   "source": [
    "<b>Quantas mulheres tem no cadastro ?</b>"
   ]
  },
  {
   "cell_type": "code",
   "execution_count": 4,
   "metadata": {},
   "outputs": [
    {
     "name": "stdout",
     "output_type": "stream",
     "text": [
      "Existem 14 registros do sexo feminino e elas representam 47.0% do total\n"
     ]
    }
   ],
   "source": [
    "cadastro_df['contador'] = 1 #cria coluna de contador para realizar a contagem\n",
    "\n",
    "mulheres = cadastro_df.loc[cadastro_df.sexo == 'f'] #seleciona apenas as linhas com sexo feminino\n",
    "\n",
    "qt_mulheres = mulheres['contador'].sum() #soma a quantidade de linhas com valores do sexo  feminino\n",
    "perc_mulheres = round(qt_mulheres / cadastro_df['sexo'].count(),2)*100 #conta para o percentual de mulheres na base\n",
    "\n",
    "print(\"Existem {} registros do sexo feminino e elas representam {}% do total\".format(qt_mulheres,perc_mulheres))\n",
    "\n"
   ]
  },
  {
   "cell_type": "markdown",
   "metadata": {},
   "source": [
    "<b>Alternativa 2: Quantas mulheres e homens tem no cadastro?</b>"
   ]
  },
  {
   "cell_type": "code",
   "execution_count": 115,
   "metadata": {},
   "outputs": [
    {
     "data": {
      "text/html": [
       "<div>\n",
       "<style scoped>\n",
       "    .dataframe tbody tr th:only-of-type {\n",
       "        vertical-align: middle;\n",
       "    }\n",
       "\n",
       "    .dataframe tbody tr th {\n",
       "        vertical-align: top;\n",
       "    }\n",
       "\n",
       "    .dataframe thead th {\n",
       "        text-align: right;\n",
       "    }\n",
       "</style>\n",
       "<table border=\"1\" class=\"dataframe\">\n",
       "  <thead>\n",
       "    <tr style=\"text-align: right;\">\n",
       "      <th></th>\n",
       "      <th>contador</th>\n",
       "    </tr>\n",
       "    <tr>\n",
       "      <th>sexo</th>\n",
       "      <th></th>\n",
       "    </tr>\n",
       "  </thead>\n",
       "  <tbody>\n",
       "    <tr>\n",
       "      <th>f</th>\n",
       "      <td>14</td>\n",
       "    </tr>\n",
       "    <tr>\n",
       "      <th>m</th>\n",
       "      <td>16</td>\n",
       "    </tr>\n",
       "  </tbody>\n",
       "</table>\n",
       "</div>"
      ],
      "text/plain": [
       "      contador\n",
       "sexo          \n",
       "f           14\n",
       "m           16"
      ]
     },
     "execution_count": 115,
     "metadata": {},
     "output_type": "execute_result"
    }
   ],
   "source": [
    "cadastro_df['contador'] = 1 #cria coluna de contador para realizar a contagem\n",
    "\n",
    "cadastro_df[['sexo','contador']].groupby('sexo').sum() #retorna dados agrupados pela coluna sexo com base do valor do contador"
   ]
  },
  {
   "cell_type": "markdown",
   "metadata": {},
   "source": [
    "<b>Qual a idade média dos homens e das mulheres?</b>"
   ]
  },
  {
   "cell_type": "code",
   "execution_count": 6,
   "metadata": {},
   "outputs": [
    {
     "data": {
      "text/html": [
       "<div>\n",
       "<style scoped>\n",
       "    .dataframe tbody tr th:only-of-type {\n",
       "        vertical-align: middle;\n",
       "    }\n",
       "\n",
       "    .dataframe tbody tr th {\n",
       "        vertical-align: top;\n",
       "    }\n",
       "\n",
       "    .dataframe thead th {\n",
       "        text-align: right;\n",
       "    }\n",
       "</style>\n",
       "<table border=\"1\" class=\"dataframe\">\n",
       "  <thead>\n",
       "    <tr style=\"text-align: right;\">\n",
       "      <th></th>\n",
       "      <th>idade</th>\n",
       "    </tr>\n",
       "    <tr>\n",
       "      <th>sexo</th>\n",
       "      <th></th>\n",
       "    </tr>\n",
       "  </thead>\n",
       "  <tbody>\n",
       "    <tr>\n",
       "      <th>f</th>\n",
       "      <td>34.0</td>\n",
       "    </tr>\n",
       "    <tr>\n",
       "      <th>m</th>\n",
       "      <td>32.0</td>\n",
       "    </tr>\n",
       "  </tbody>\n",
       "</table>\n",
       "</div>"
      ],
      "text/plain": [
       "      idade\n",
       "sexo       \n",
       "f      34.0\n",
       "m      32.0"
      ]
     },
     "execution_count": 6,
     "metadata": {},
     "output_type": "execute_result"
    }
   ],
   "source": [
    "round(cadastro_df[['sexo','idade']].groupby('sexo').mean(),0) # retorna dados agrupados pelo sexo e com média da idade"
   ]
  },
  {
   "cell_type": "markdown",
   "metadata": {},
   "source": [
    "<b>Crie um gráfico de barras e mostre a distribuição de escolaridade no cadastro?</b>"
   ]
  },
  {
   "cell_type": "code",
   "execution_count": 7,
   "metadata": {},
   "outputs": [
    {
     "data": {
      "text/plain": [
       "<matplotlib.axes._subplots.AxesSubplot at 0x22880ff5880>"
      ]
     },
     "execution_count": 7,
     "metadata": {},
     "output_type": "execute_result"
    },
    {
     "data": {
      "image/png": "[encoded data removed]",
      "text/plain": [
       "<Figure size 432x288 with 1 Axes>"
      ]
     },
     "metadata": {
      "needs_background": "light"
     },
     "output_type": "display_data"
    }
   ],
   "source": [
    "from collections import Counter\n",
    "\n",
    "#Cria um dicionário para contabilizar número da escolaridade e converte valores para mínusculo\n",
    "dict_escolaridade = dict(Counter(cadastro_df['escolaridade'].str.lower()))\n",
    "\n",
    "#Criado Dataframe onde os contatos são chaves e a freqência os valores:\n",
    "escolaridade_df = pd.DataFrame(dict_escolaridade.items(), columns=['escolaridade', 'quantidade'])\n",
    "\n",
    "#Instrução para ordenar os valores pela frequênci\n",
    "escolaridade_df = escolaridade_df.sort_values(by=['quantidade'], ascending=False)\n",
    "\n",
    "#instrução do gráfico para exibir os resultados\n",
    "escolaridade_df.plot(kind='bar', x = 'escolaridade', y='quantidade', title='Distribuição por escolaridade')\n"
   ]
  },
  {
   "cell_type": "markdown",
   "metadata": {},
   "source": [
    "<b>Mostre a Média Salarial do cadastro?</b>"
   ]
  },
  {
   "cell_type": "code",
   "execution_count": 338,
   "metadata": {},
   "outputs": [
    {
     "name": "stdout",
     "output_type": "stream",
     "text": [
      "A média salarial do cadastro é R$ 5356.0\n"
     ]
    }
   ],
   "source": [
    "#Mesclando arquivos de cadastro com salários, profisão é a chave entre os arquivos\n",
    "merged_cadastro_df = cadastro_df.merge(salario_df, left_on='profissão', right_on='Profissões') \n",
    "\n",
    "#Criando a coluna salario no dataframe e populando as linhas de acordo com o tempo de experiência delas\n",
    "merged_cadastro_df.loc[merged_cadastro_df['experiencia profissional'] > 3, 'salario'] = merged_cadastro_df['salaior +3 anos']  \n",
    "merged_cadastro_df.loc[merged_cadastro_df['experiencia profissional'] <= 3, 'salario'] = merged_cadastro_df['salario até 3 anos']\n",
    "\n",
    "#cria novo dataframe com pessoas que recebem salário\n",
    "media_salarios = merged_cadastro_df.loc[merged_cadastro_df['salario'] >0]\n",
    "\n",
    "#Realiza a média dos valores\n",
    "media_salarios = round(media_salarios['salario'].mean(),2)\n",
    "\n",
    "#apresenta resultados formatado\n",
    "print('A média salarial do cadastro é R$ {}'.format(media_salarios))\n",
    "\n",
    "\n"
   ]
  },
  {
   "cell_type": "markdown",
   "metadata": {},
   "source": [
    "<b>Quem tem o maior salário?</b>"
   ]
  },
  {
   "cell_type": "code",
   "execution_count": 78,
   "metadata": {},
   "outputs": [
    {
     "data": {
      "text/html": [
       "<div>\n",
       "<style scoped>\n",
       "    .dataframe tbody tr th:only-of-type {\n",
       "        vertical-align: middle;\n",
       "    }\n",
       "\n",
       "    .dataframe tbody tr th {\n",
       "        vertical-align: top;\n",
       "    }\n",
       "\n",
       "    .dataframe thead th {\n",
       "        text-align: right;\n",
       "    }\n",
       "</style>\n",
       "<table border=\"1\" class=\"dataframe\">\n",
       "  <thead>\n",
       "    <tr style=\"text-align: right;\">\n",
       "      <th></th>\n",
       "      <th>salario</th>\n",
       "    </tr>\n",
       "    <tr>\n",
       "      <th>profissão</th>\n",
       "      <th></th>\n",
       "    </tr>\n",
       "  </thead>\n",
       "  <tbody>\n",
       "    <tr>\n",
       "      <th>Médica</th>\n",
       "      <td>20000.0</td>\n",
       "    </tr>\n",
       "  </tbody>\n",
       "</table>\n",
       "</div>"
      ],
      "text/plain": [
       "           salario\n",
       "profissão         \n",
       "Médica     20000.0"
      ]
     },
     "execution_count": 78,
     "metadata": {},
     "output_type": "execute_result"
    }
   ],
   "source": [
    "#Apresenta a profissão com maior valor de salário utilizando groupby, max e classificação pelo valor do salário\n",
    "round(merged_cadastro_df[['profissão','salario']]\n",
    "      .groupby('profissão')\n",
    "      .max(),2).sort_values('salario', ascending=False).head(1)"
   ]
  },
  {
   "cell_type": "markdown",
   "metadata": {},
   "source": [
    "<b>Tirando desempregado quem recebe menos?</b>"
   ]
  },
  {
   "cell_type": "code",
   "execution_count": 87,
   "metadata": {},
   "outputs": [
    {
     "data": {
      "text/html": [
       "<div>\n",
       "<style scoped>\n",
       "    .dataframe tbody tr th:only-of-type {\n",
       "        vertical-align: middle;\n",
       "    }\n",
       "\n",
       "    .dataframe tbody tr th {\n",
       "        vertical-align: top;\n",
       "    }\n",
       "\n",
       "    .dataframe thead th {\n",
       "        text-align: right;\n",
       "    }\n",
       "</style>\n",
       "<table border=\"1\" class=\"dataframe\">\n",
       "  <thead>\n",
       "    <tr style=\"text-align: right;\">\n",
       "      <th></th>\n",
       "      <th>salario</th>\n",
       "    </tr>\n",
       "    <tr>\n",
       "      <th>profissão</th>\n",
       "      <th></th>\n",
       "    </tr>\n",
       "  </thead>\n",
       "  <tbody>\n",
       "    <tr>\n",
       "      <th>caixa de mercado</th>\n",
       "      <td>1200.0</td>\n",
       "    </tr>\n",
       "  </tbody>\n",
       "</table>\n",
       "</div>"
      ],
      "text/plain": [
       "                  salario\n",
       "profissão                \n",
       "caixa de mercado   1200.0"
      ]
     },
     "execution_count": 87,
     "metadata": {},
     "output_type": "execute_result"
    }
   ],
   "source": [
    "#Criado novo dataframe para tirar pessoas que não recebem salários\n",
    "com_salarios_df = merged_cadastro_df.loc[merged_cadastro_df['salario'] > 0]\n",
    "\n",
    "#Apresenta a profissão com maior valor de salário utilizando groupby, min e classificação pelo valor do salário\n",
    "round(com_salarios_df[['profissão','salario']]\n",
    "      .groupby('profissão')\n",
    "      .min(),2).sort_values('salario', ascending=True).head(1)"
   ]
  },
  {
   "cell_type": "markdown",
   "metadata": {},
   "source": [
    "<b>Quantas pessoas gostam de caminhar no final de semana?</b>"
   ]
  },
  {
   "cell_type": "code",
   "execution_count": 103,
   "metadata": {},
   "outputs": [
    {
     "name": "stdout",
     "output_type": "stream",
     "text": [
      "4 pessoas fazem caminhadas no final de semana\n"
     ]
    }
   ],
   "source": [
    "#Cria um novo dataframe considerando todas as linhas que contem o termo caminhar. A coluna é mutivalorada.\n",
    "caminhada_df = cadastro_df.loc[cadastro_df['lazer_final_de_semana'].str.contains('caminhar')]\n",
    "\n",
    "#Faz a contagem das linhas com este termo\n",
    "qt_caminhada = caminhada_df['contador'].sum()\n",
    "\n",
    "#apresenta formatado\n",
    "print(\"{} pessoas fazem caminhadas no final de semana\".format(qt_caminhada))\n",
    "\n"
   ]
  },
  {
   "cell_type": "markdown",
   "metadata": {},
   "source": [
    "<b>Crie um gráfico mostrando a relação entre escolaridade e quem pratica esporte</b>"
   ]
  },
  {
   "cell_type": "code",
   "execution_count": 225,
   "metadata": {},
   "outputs": [],
   "source": [
    "# reduz todos os valores da coluna para letra minuscula\n",
    "cadastro_df['escolaridade'] = cadastro_df['escolaridade'].str.lower()\n",
    "\n",
    "#cria uma coluna para atribuir valor um para quem respondeu que faz atividade física\n",
    "cadastro_df.loc[cadastro_df['pratica_esporte'] == 'sim', 'contador_esporte'] = 1\n",
    "\n",
    "#Cria dataframe apenas com os valores desejados e agrupados\n",
    "relacao_df = cadastro_df[['escolaridade','contador','contador_esporte']].groupby('escolaridade').sum()\n",
    "\n",
    "#Restaura o índice do dataframe:\n",
    "relacao_df = relacao_df.reset_index()\n",
    "\n",
    "#Cria listas para serem usadas no gráfico\n",
    "labels =[]\n",
    "estudantes = []\n",
    "esportistas = []\n",
    "\n",
    "for cell in relacao_df['escolaridade']:\n",
    "    labels.append(cell)\n",
    "    \n",
    "for cell in relacao_df['contador']:\n",
    "    estudantes.append(cell)\n",
    "\n",
    "for cell in relacao_df['contador_esporte']:\n",
    "    esportistas.append(cell)\n"
   ]
  },
  {
   "cell_type": "code",
   "execution_count": 228,
   "metadata": {},
   "outputs": [
    {
     "data": {
      "image/png": "[encoded data removed]",
      "text/plain": [
       "<Figure size 432x288 with 1 Axes>"
      ]
     },
     "metadata": {
      "needs_background": "light"
     },
     "output_type": "display_data"
    }
   ],
   "source": [
    "#Código do Gráfico\n",
    "\n",
    "x = np.arange(len(labels))  # the label locations\n",
    "width = 0.35  # the width of the bars\n",
    "\n",
    "fig, ax = plt.subplots()\n",
    "rects1 = ax.bar(x - width/2, estudantes, width, label='Estudante')\n",
    "rects2 = ax.bar(x + width/2, esportistas, width, label='Esportistas')\n",
    "\n",
    "# Add some text for labels, title and custom x-axis tick labels, etc.\n",
    "ax.set_ylabel('Quantidade')\n",
    "ax.set_title('Quantidade de Estudantes vs Praticante de Exercícios')\n",
    "ax.set_xticks(x)\n",
    "ax.set_xticklabels(labels)\n",
    "ax.legend()\n",
    "\n",
    "\n",
    "def autolabel(rects):\n",
    "    \"\"\"Attach a text label above each bar in *rects*, displaying its height.\"\"\"\n",
    "    for rect in rects:\n",
    "        height = rect.get_height()\n",
    "        ax.annotate('{}'.format(height),\n",
    "                    xy=(rect.get_x() + rect.get_width() / 2, height),\n",
    "                    xytext=(0, 3),  # 3 points vertical offset\n",
    "                    textcoords=\"offset points\",\n",
    "                    ha='center', va='bottom')\n",
    "\n",
    "\n",
    "autolabel(rects1)\n",
    "autolabel(rects2)\n",
    "\n",
    "fig.tight_layout()\n",
    "\n",
    "plt.show()"
   ]
  },
  {
   "cell_type": "markdown",
   "metadata": {},
   "source": [
    "<b>Crie um mapa de calor?</b>"
   ]
  },
  {
   "cell_type": "code",
   "execution_count": 334,
   "metadata": {},
   "outputs": [
    {
     "data": {
      "text/html": [
       "<div>\n",
       "<style scoped>\n",
       "    .dataframe tbody tr th:only-of-type {\n",
       "        vertical-align: middle;\n",
       "    }\n",
       "\n",
       "    .dataframe tbody tr th {\n",
       "        vertical-align: top;\n",
       "    }\n",
       "\n",
       "    .dataframe thead th {\n",
       "        text-align: right;\n",
       "    }\n",
       "</style>\n",
       "<table border=\"1\" class=\"dataframe\">\n",
       "  <thead>\n",
       "    <tr style=\"text-align: right;\">\n",
       "      <th></th>\n",
       "      <th>ano_profissao</th>\n",
       "      <th>Profissões</th>\n",
       "      <th>contador</th>\n",
       "    </tr>\n",
       "  </thead>\n",
       "  <tbody>\n",
       "    <tr>\n",
       "      <th>0</th>\n",
       "      <td>2016</td>\n",
       "      <td>Cientista de Dados</td>\n",
       "      <td>1</td>\n",
       "    </tr>\n",
       "    <tr>\n",
       "      <th>1</th>\n",
       "      <td>2018</td>\n",
       "      <td>dona de casa</td>\n",
       "      <td>1</td>\n",
       "    </tr>\n",
       "    <tr>\n",
       "      <th>3</th>\n",
       "      <td>2019</td>\n",
       "      <td>desempregado</td>\n",
       "      <td>1</td>\n",
       "    </tr>\n",
       "    <tr>\n",
       "      <th>4</th>\n",
       "      <td>2017</td>\n",
       "      <td>Gerente de Projeto</td>\n",
       "      <td>1</td>\n",
       "    </tr>\n",
       "    <tr>\n",
       "      <th>5</th>\n",
       "      <td>2018</td>\n",
       "      <td>Auxiliar de Enfermagem</td>\n",
       "      <td>1</td>\n",
       "    </tr>\n",
       "    <tr>\n",
       "      <th>6</th>\n",
       "      <td>2016</td>\n",
       "      <td>caixa de mercado</td>\n",
       "      <td>1</td>\n",
       "    </tr>\n",
       "    <tr>\n",
       "      <th>7</th>\n",
       "      <td>2018</td>\n",
       "      <td>estagiario</td>\n",
       "      <td>1</td>\n",
       "    </tr>\n",
       "    <tr>\n",
       "      <th>8</th>\n",
       "      <td>2019</td>\n",
       "      <td>estagiario</td>\n",
       "      <td>1</td>\n",
       "    </tr>\n",
       "    <tr>\n",
       "      <th>9</th>\n",
       "      <td>2015</td>\n",
       "      <td>Médica</td>\n",
       "      <td>1</td>\n",
       "    </tr>\n",
       "    <tr>\n",
       "      <th>10</th>\n",
       "      <td>2018</td>\n",
       "      <td>estudante</td>\n",
       "      <td>1</td>\n",
       "    </tr>\n",
       "    <tr>\n",
       "      <th>12</th>\n",
       "      <td>2013</td>\n",
       "      <td>Enfermeira</td>\n",
       "      <td>1</td>\n",
       "    </tr>\n",
       "    <tr>\n",
       "      <th>13</th>\n",
       "      <td>2019</td>\n",
       "      <td>Enfermeira</td>\n",
       "      <td>1</td>\n",
       "    </tr>\n",
       "    <tr>\n",
       "      <th>14</th>\n",
       "      <td>2011</td>\n",
       "      <td>Autonoma</td>\n",
       "      <td>1</td>\n",
       "    </tr>\n",
       "    <tr>\n",
       "      <th>15</th>\n",
       "      <td>2018</td>\n",
       "      <td>Caminhoneiro</td>\n",
       "      <td>1</td>\n",
       "    </tr>\n",
       "    <tr>\n",
       "      <th>16</th>\n",
       "      <td>2019</td>\n",
       "      <td>Caminhoneiro</td>\n",
       "      <td>1</td>\n",
       "    </tr>\n",
       "    <tr>\n",
       "      <th>17</th>\n",
       "      <td>2016</td>\n",
       "      <td>Gerente Financeiro</td>\n",
       "      <td>1</td>\n",
       "    </tr>\n",
       "    <tr>\n",
       "      <th>18</th>\n",
       "      <td>2019</td>\n",
       "      <td>Gerente Financeiro</td>\n",
       "      <td>1</td>\n",
       "    </tr>\n",
       "    <tr>\n",
       "      <th>19</th>\n",
       "      <td>2014</td>\n",
       "      <td>Dentista</td>\n",
       "      <td>1</td>\n",
       "    </tr>\n",
       "    <tr>\n",
       "      <th>20</th>\n",
       "      <td>2017</td>\n",
       "      <td>Nutricionista</td>\n",
       "      <td>1</td>\n",
       "    </tr>\n",
       "    <tr>\n",
       "      <th>21</th>\n",
       "      <td>2017</td>\n",
       "      <td>Pedreiro</td>\n",
       "      <td>1</td>\n",
       "    </tr>\n",
       "    <tr>\n",
       "      <th>22</th>\n",
       "      <td>2015</td>\n",
       "      <td>Professora</td>\n",
       "      <td>1</td>\n",
       "    </tr>\n",
       "    <tr>\n",
       "      <th>23</th>\n",
       "      <td>2013</td>\n",
       "      <td>Recursos Humanos</td>\n",
       "      <td>1</td>\n",
       "    </tr>\n",
       "    <tr>\n",
       "      <th>24</th>\n",
       "      <td>2018</td>\n",
       "      <td>Frentista</td>\n",
       "      <td>1</td>\n",
       "    </tr>\n",
       "    <tr>\n",
       "      <th>25</th>\n",
       "      <td>2017</td>\n",
       "      <td>Gerente Geral</td>\n",
       "      <td>1</td>\n",
       "    </tr>\n",
       "    <tr>\n",
       "      <th>26</th>\n",
       "      <td>2013</td>\n",
       "      <td>Analista de Sistemas</td>\n",
       "      <td>1</td>\n",
       "    </tr>\n",
       "    <tr>\n",
       "      <th>27</th>\n",
       "      <td>2017</td>\n",
       "      <td>Biomedica</td>\n",
       "      <td>1</td>\n",
       "    </tr>\n",
       "    <tr>\n",
       "      <th>28</th>\n",
       "      <td>2018</td>\n",
       "      <td>Comercio Exterior</td>\n",
       "      <td>1</td>\n",
       "    </tr>\n",
       "  </tbody>\n",
       "</table>\n",
       "</div>"
      ],
      "text/plain": [
       "    ano_profissao              Profissões  contador\n",
       "0            2016      Cientista de Dados         1\n",
       "1            2018            dona de casa         1\n",
       "3            2019            desempregado         1\n",
       "4            2017      Gerente de Projeto         1\n",
       "5            2018  Auxiliar de Enfermagem         1\n",
       "6            2016        caixa de mercado         1\n",
       "7            2018              estagiario         1\n",
       "8            2019              estagiario         1\n",
       "9            2015                  Médica         1\n",
       "10           2018               estudante         1\n",
       "12           2013              Enfermeira         1\n",
       "13           2019              Enfermeira         1\n",
       "14           2011                Autonoma         1\n",
       "15           2018            Caminhoneiro         1\n",
       "16           2019            Caminhoneiro         1\n",
       "17           2016      Gerente Financeiro         1\n",
       "18           2019      Gerente Financeiro         1\n",
       "19           2014                Dentista         1\n",
       "20           2017           Nutricionista         1\n",
       "21           2017                Pedreiro         1\n",
       "22           2015              Professora         1\n",
       "23           2013        Recursos Humanos         1\n",
       "24           2018               Frentista         1\n",
       "25           2017           Gerente Geral         1\n",
       "26           2013    Analista de Sistemas         1\n",
       "27           2017               Biomedica         1\n",
       "28           2018       Comercio Exterior         1"
      ]
     },
     "execution_count": 334,
     "metadata": {},
     "output_type": "execute_result"
    }
   ],
   "source": [
    "#Incompleto. Estava criando um dataframe para convertê-lo em matriz para usá-lo no gráfico de mapa de calor.\n",
    "# A ideia era visualizar o ano vs profissão\n",
    "#Dataframe abaixo realiza o cálulo do ano de hoje menos a experiência para ter o ínicio da profissão\n",
    "merged_cadastro_df['ano_profissao'] = now - merged_cadastro_df['experiencia profissional']\n",
    "\n",
    "#Filtra o dataframe para ter apenas pessoas empregadas\n",
    "new_dataset = merged_cadastro_df.loc[merged_cadastro_df['experiencia profissional'] > 0]\n",
    "\n",
    "#restringe o dataframe para as colunas que iriam ser usadas\n",
    "new_dataset = new_dataset[['ano_profissao','Profissões','contador']]\n",
    "new_dataset\n",
    "\n",
    "#proximo passo era inverter os anos como colunas e cruzar com as profissões\n",
    "#Próximo passo seria aplicar array no código do gráfico de mapa de calor:"
   ]
  },
  {
   "cell_type": "code",
   "execution_count": 340,
   "metadata": {},
   "outputs": [
    {
     "data": {
      "image/png": "[encoded data removed]",
      "text/plain": [
       "<Figure size 432x288 with 2 Axes>"
      ]
     },
     "metadata": {
      "needs_background": "light"
     },
     "output_type": "display_data"
    }
   ],
   "source": [
    "#Modelo de HeatMap\n",
    "\n",
    "import seaborn as sns\n",
    "\n",
    "flights = sns.load_dataset(\"flights\")\n",
    "flights = flights.pivot(\"month\", \"year\", \"passengers\")\n",
    "ax = sns.heatmap(flights, annot=True, fmt=\"d\")"
   ]
  },
  {
   "cell_type": "markdown",
   "metadata": {},
   "source": [
    "<b>Mostre de forma gráfica a distribuição de estados do cadastro?</b>"
   ]
  },
  {
   "cell_type": "code",
   "execution_count": 296,
   "metadata": {},
   "outputs": [
    {
     "data": {
      "image/png": "[encoded data removed]",
      "text/plain": [
       "<Figure size 432x288 with 1 Axes>"
      ]
     },
     "metadata": {},
     "output_type": "display_data"
    }
   ],
   "source": [
    "#processos para harmonizar gêneros da coluna estado_civil\n",
    "cadastro_df.loc[cadastro_df['estado_civil'].str.contains('Casad'), 'estado_civil2'] = 'Casado'\n",
    "cadastro_df.loc[cadastro_df['estado_civil'].str.contains('Viuv'), 'estado_civil2'] = 'Viuvo'\n",
    "cadastro_df.loc[cadastro_df['estado_civil'].str.contains('Solteir'), 'estado_civil2'] = 'Solteiro'\n",
    "cadastro_df.loc[cadastro_df['estado_civil'].str.contains('Divorciad'), 'estado_civil2'] = 'Divorciado'\n",
    "\n",
    "#Criado dataframe para agrupar estado civil\n",
    "estado_civil_df = cadastro_df[['estado_civil2','contador']].groupby('estado_civil2').sum()\n",
    "\n",
    "#Restaurando a indexação\n",
    "estado_civil_df = estado_civil_df.reset_index()\n",
    "\n",
    "#Criada listas para alimentar o gráfico\n",
    "labels_estado_civil =[]\n",
    "qt_estado_civil = []\n",
    "\n",
    "\n",
    "for cell in estado_civil_df['estado_civil2']:\n",
    "    labels_estado_civil.append(cell)\n",
    "    \n",
    "for cell in estado_civil_df['contador']:\n",
    "    qt_estado_civil.append(cell)\n",
    "\n",
    "#Código do gráfico\n",
    "explode = (0, 0, 0, 0)\n",
    "\n",
    "fig1, ax1 = plt.subplots()\n",
    "ax1.pie(qt_estado_civil, explode=explode, labels=labels_estado_civil, autopct='%1.1f%%',\n",
    "        shadow=True, startangle=90)\n",
    "ax1.axis('equal')\n",
    "\n",
    "plt.show()\n"
   ]
  }
 ],
 "metadata": {
  "kernelspec": {
   "display_name": "Python 3",
   "language": "python",
   "name": "python3"
  },
  "language_info": {
   "codemirror_mode": {
    "name": "ipython",
    "version": 3
   },
   "file_extension": ".py",
   "mimetype": "text/x-python",
   "name": "python",
   "nbconvert_exporter": "python",
   "pygments_lexer": "ipython3",
   "version": "3.8.3"
  },
  "toc": {
   "base_numbering": 1,
   "nav_menu": {},
   "number_sections": true,
   "sideBar": true,
   "skip_h1_title": false,
   "title_cell": "Table of Contents",
   "title_sidebar": "Contents",
   "toc_cell": false,
   "toc_position": {},
   "toc_section_display": true,
   "toc_window_display": false
  },
  "varInspector": {
   "cols": {
    "lenName": 16,
    "lenType": 16,
    "lenVar": 40
   },
   "kernels_config": {
    "python": {
     "delete_cmd_postfix": "",
     "delete_cmd_prefix": "del ",
     "library": "var_list.py",
     "varRefreshCmd": "print(var_dic_list())"
    },
    "r": {
     "delete_cmd_postfix": ") ",
     "delete_cmd_prefix": "rm(",
     "library": "var_list.r",
     "varRefreshCmd": "cat(var_dic_list()) "
    }
   },
   "types_to_exclude": [
    "module",
    "function",
    "builtin_function_or_method",
    "instance",
    "_Feature"
   ],
   "window_display": false
  }
 },
 "nbformat": 4,
 "nbformat_minor": 4
}
