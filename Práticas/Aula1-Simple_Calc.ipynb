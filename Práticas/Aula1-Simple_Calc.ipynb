{
 "cells": [
  {
   "cell_type": "markdown",
   "metadata": {},
   "source": [
    "<b>Exercicio 1:</b><br>\n",
    "Crie uma calculadora simples"
   ]
  },
  {
   "cell_type": "code",
   "execution_count": 1,
   "metadata": {},
   "outputs": [
    {
     "name": "stdout",
     "output_type": "stream",
     "text": [
      "Digite um número: 1\n",
      "Digite um número outro número: 2\n",
      "Qual operação você deseja fazer: Soma[1], Subtração[2], Multiplicação[3] ou Divisão [4]2\n",
      "Valor da subtração entre 1 e 2 é: -1 \n"
     ]
    }
   ],
   "source": [
    "valor1= int(input(\"Digite um número: \"))\n",
    "valor2= int(input(\"Digite um número outro número: \"))\n",
    "\n",
    "operacao = int(input(\"Qual operação você deseja fazer: Soma[1], Subtração[2], Multiplicação[3] ou Divisão [4]\"))\n",
    "\n",
    "#Checa se os valores imputados pelos usuários são válidos\n",
    "if((operacao >= 5 or operacao <= 0) or operacao == \"\"):\n",
    "    print('Operação não encontrada ou inválida')\n",
    "\n",
    "else:\n",
    "    \n",
    "#Verifica se é divisão e checa o denominador para conferir se é válido (>0)\n",
    "#Iniciada por esta operação para ganhar performance no código, uma vez que á unica com restrição\n",
    "    if(operacao == 4 and valor2 == 0):\n",
    "        print('Erro! Denominador é igual a zero.')\n",
    "    \n",
    "#Operação que atende condição de Soma    \n",
    "    elif(operacao == 1):\n",
    "        calc = valor1+valor2\n",
    "        print(\"Valor da soma entre {} e {} é: {} \".format(valor1,valor2,calc))\n",
    "    \n",
    "#Operação que atende condição de Subtração       \n",
    "    else:\n",
    "        if(operacao == 2):\n",
    "            calc = valor1-valor2\n",
    "            print(\"Valor da subtração entre {} e {} é: {} \".format(valor1,valor2,calc))\n",
    "        \n",
    "#Operação que atende condição da Multiplicação         \n",
    "        elif(operacao == 3):\n",
    "            calc = valor1*valor2\n",
    "            print(\"Valor da multiplicação entre {} e {} é: {} \".format(valor1,valor2,calc))\n",
    "        \n",
    "#Operação que atende condição de Divisão em que o denominador não é zero:        \n",
    "        else:\n",
    "            calc = valor1/valor2\n",
    "            print(\"Valor da divisão entre {} e {} é: {} \".format(valor1,valor2,calc))"
   ]
  }
 ],
 "metadata": {
  "kernelspec": {
   "display_name": "Python 3",
   "language": "python",
   "name": "python3"
  },
  "language_info": {
   "codemirror_mode": {
    "name": "ipython",
    "version": 3
   },
   "file_extension": ".py",
   "mimetype": "text/x-python",
   "name": "python",
   "nbconvert_exporter": "python",
   "pygments_lexer": "ipython3",
   "version": "3.8.3"
  }
 },
 "nbformat": 4,
 "nbformat_minor": 4
}
