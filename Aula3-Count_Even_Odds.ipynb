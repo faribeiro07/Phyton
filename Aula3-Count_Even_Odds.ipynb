{
 "cells": [
  {
   "cell_type": "code",
   "execution_count": 15,
   "metadata": {},
   "outputs": [
    {
     "name": "stdout",
     "output_type": "stream",
     "text": [
      "A soma de 1 a 100 é 5050, a soma dos valores pares é 2550 e a soma dos impares é 2500\n"
     ]
    }
   ],
   "source": [
    "#Definição de listas e variáveis\n",
    "lista = list(range(101)) #Criação de lista de 0 a 100\n",
    "total = 0 #Criação de variável com valor zero atribuido. Ela será populada com dados do laço\n",
    "pares = [] #Criação de lista vazia que receberá dados pares do laço\n",
    "impares = [] #Criação de lista vazia que receberá dados impares do laço\n",
    "\n",
    "#Laço que irá processar as somas e separar os valores\n",
    "for i in lista:\n",
    "    total = total +i #processo que somará cada número de 1 a 100\n",
    "    \n",
    "    if(i % 2 == 1): #Condicional que verifica se os valores são ímpares\n",
    "        impares.append(i) #Adiciona na lista\n",
    "        soma_impares = sum(impares) #realiza a soma dos impares\n",
    "    else:\n",
    "        pares.append(i) #adiciona os pares na lista\n",
    "        soma_pares = sum(pares) # realiza a soma dos pares\n",
    "        \n",
    "#Método format para explicar o que será exibido\n",
    "print(\"A soma de 1 a 100 é {}, a soma dos valores pares é {} e a soma dos impares é {}\".format(total,soma_pares,soma_impares))\n"
   ]
  }
 ],
 "metadata": {
  "kernelspec": {
   "display_name": "Python 3",
   "language": "python",
   "name": "python3"
  },
  "language_info": {
   "codemirror_mode": {
    "name": "ipython",
    "version": 3
   },
   "file_extension": ".py",
   "mimetype": "text/x-python",
   "name": "python",
   "nbconvert_exporter": "python",
   "pygments_lexer": "ipython3",
   "version": "3.8.5"
  }
 },
 "nbformat": 4,
 "nbformat_minor": 4
}
