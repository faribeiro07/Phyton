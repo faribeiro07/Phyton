{
 "cells": [
  {
   "cell_type": "markdown",
   "metadata": {},
   "source": [
    "<b>Exercicio 2:</b> A partir do array: nota = [9,6,7,3,8,8,\"oito\", \"A\", \"C\"], tire a media desses valores. </br>\n",
    "Observação: Veja que tem string nesse array, a media só se tira"
   ]
  },
  {
   "cell_type": "code",
   "execution_count": 133,
   "metadata": {},
   "outputs": [
    {
     "name": "stdout",
     "output_type": "stream",
     "text": [
      "média das notas é: 7.0\n"
     ]
    }
   ],
   "source": [
    "nota=[9,6,7,3,8,8,\"oito\", \"A\", \"C\"]\n",
    "new_list=[]\n",
    "total = 0\n",
    "soma = 0\n",
    "\n",
    "# Verifica cada item da lista e separa os números em uma lista diferente\n",
    "for x in nota:\n",
    "\n",
    "#Troca a string \"oito\" por seu valor numeral\n",
    "    if(x == \"oito\"):\n",
    "        nota.remove('oito')\n",
    "        nota.append(8)\n",
    "    elif(isinstance(x, str) == False):\n",
    "        new_list.append(x)\n",
    "\n",
    "# realiza a soma de cada valor da lista que contém só números e vê a soma de iten nela\n",
    "for n in new_list:\n",
    "    soma = soma + n\n",
    "    total = len(new_list)\n",
    "\n",
    "# Apresenta o resultado da média da lista que apenas contém números\n",
    "print('média das notas é:', round(soma/total,2))\n"
   ]
  }
 ],
 "metadata": {
  "kernelspec": {
   "display_name": "Python 3",
   "language": "python",
   "name": "python3"
  },
  "language_info": {
   "codemirror_mode": {
    "name": "ipython",
    "version": 3
   },
   "file_extension": ".py",
   "mimetype": "text/x-python",
   "name": "python",
   "nbconvert_exporter": "python",
   "pygments_lexer": "ipython3",
   "version": "3.8.3"
  }
 },
 "nbformat": 4,
 "nbformat_minor": 4
}
