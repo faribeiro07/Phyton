{
 "cells": [
  {
   "cell_type": "markdown",
   "metadata": {},
   "source": [
    "<h2>Exercicio2</h2>\n",
    "Lista: (4,5,3,4,56,3,2,31,1,7,8,9,0,234,7,8,9). Orde a lista mostre os valores repitidos"
   ]
  },
  {
   "cell_type": "code",
   "execution_count": 10,
   "metadata": {},
   "outputs": [
    {
     "name": "stdout",
     "output_type": "stream",
     "text": [
      "[0, 1, 2, 3, 3, 4, 4, 5, 7, 7, 8, 8, 9, 9, 31, 56, 234]\n",
      "A frequência de todos os números é Counter({3: 2, 4: 2, 7: 2, 8: 2, 9: 2, 0: 1, 1: 1, 2: 1, 5: 1, 31: 1, 56: 1, 234: 1})\n",
      "Os mais comuns são [(3, 2), (4, 2), (7, 2), (8, 2), (9, 2)]\n"
     ]
    }
   ],
   "source": [
    "import collections #biblioteca para efetuar contategm\n",
    "lst = (4,5,3,4,56,3,2,31,1,7,8,9,0,234,7,8,9) \n",
    "lst = list(lst) #transformar tupla em lista\n",
    "lst.sort() #ordena os valores\n",
    "\n",
    "counter = collections.Counter(lst) #realiza a contagem de cada elemento na lista\n",
    "commons = counter.most_common(5) #exibirá os cinco valores repetidos da lista\n",
    "\n",
    "print(lst)\n",
    "print(\"A frequência de todos os números é {}\".format(counter))\n",
    "print(\"Os mais comuns são {}\".format(commons))\n",
    "\n"
   ]
  },
  {
   "cell_type": "code",
   "execution_count": null,
   "metadata": {},
   "outputs": [],
   "source": []
  }
 ],
 "metadata": {
  "kernelspec": {
   "display_name": "Python 3",
   "language": "python",
   "name": "python3"
  },
  "language_info": {
   "codemirror_mode": {
    "name": "ipython",
    "version": 3
   },
   "file_extension": ".py",
   "mimetype": "text/x-python",
   "name": "python",
   "nbconvert_exporter": "python",
   "pygments_lexer": "ipython3",
   "version": "3.8.3"
  }
 },
 "nbformat": 4,
 "nbformat_minor": 4
}
